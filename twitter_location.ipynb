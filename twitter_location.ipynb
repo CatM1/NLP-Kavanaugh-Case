{
 "cells": [
  {
   "cell_type": "code",
   "execution_count": null,
   "metadata": {},
   "outputs": [],
   "source": [
    "import pandas as pd\n",
    "df_A=pd.read_csv('tweets/tweets_words_A.csv',encoding='utf-8')\n",
    "df_B=pd.read_csv('tweets/tweets_words_B.csv',encoding='utf-8')\n",
    "df_C=pd.read_csv('tweets/tweets_words_C.csv',encoding='utf-8')\n",
    "df_D=pd.read_csv('tweets/tweets_words_D.csv',encoding='utf-8')\n",
    "df_E=pd.read_csv('tweets/tweets_words_E.csv',encoding='utf-8')\n",
    "df_July=pd.read_csv('tweets/tweets_july.csv',encoding='utf-8')"
   ]
  },
  {
   "cell_type": "code",
   "execution_count": null,
   "metadata": {},
   "outputs": [],
   "source": [
    "user_A=df_A['user_name']\n",
    "user_B=df_B['user_name']\n",
    "user_C=df_C['user_name']\n",
    "user_D=df_D['user_name']\n",
    "user_E=df_E['user_name']\n",
    "user_july=df_July['user_name']"
   ]
  },
  {
   "cell_type": "code",
   "execution_count": null,
   "metadata": {},
   "outputs": [],
   "source": [
    "import requests\n",
    "import random\n",
    "from bs4 import BeautifulSoup\n",
    "\n",
    "HEADERS_LIST = [\n",
    "    'Mozilla/5.0 (Windows; U; Windows NT 6.1; x64; fr; rv:1.9.2.13) Gecko/20101203 Firebird/3.6.13',\n",
    "    'Mozilla/5.0 (compatible, MSIE 11, Windows NT 6.3; Trident/7.0; rv:11.0) like Gecko',\n",
    "    'Mozilla/5.0 (Windows; U; Windows NT 6.1; rv:2.2) Gecko/20110201',\n",
    "    'Opera/9.80 (X11; Linux i686; Ubuntu/14.10) Presto/2.12.388 Version/12.16',\n",
    "    'Mozilla/5.0 (Windows NT 5.2; RW; rv:7.0a1) Gecko/20091211 SeaMonkey/9.23a1pre'\n",
    "]\n",
    "\n",
    "HEADER = {'User-Agent': random.choice(HEADERS_LIST)}\n",
    "\n",
    "#url = 'https://twitter.com/akras14'\n",
    "def find_loc(url):\n",
    "    response = requests.get(url, headers=HEADER)\n",
    "    html = response.text\n",
    "    soup = BeautifulSoup(html, \"lxml\")\n",
    "    if soup.find_all('span','ProfileHeaderCard-locationText'):\n",
    "        location=str(soup.find_all('span','ProfileHeaderCard-locationText'))\n",
    "    else:\n",
    "        location=''\n",
    "    return location\n",
    "\n",
    "loc=[]\n",
    "for name in user_A:\n",
    "    url='https://twitter.com/'+name\n",
    "    loc.append(find_loc(url))"
   ]
  },
  {
   "cell_type": "code",
   "execution_count": null,
   "metadata": {},
   "outputs": [],
   "source": []
  }
 ],
 "metadata": {
  "kernelspec": {
   "display_name": "Python 3",
   "language": "python",
   "name": "python3"
  },
  "language_info": {
   "codemirror_mode": {
    "name": "ipython",
    "version": 3
   },
   "file_extension": ".py",
   "mimetype": "text/x-python",
   "name": "python",
   "nbconvert_exporter": "python",
   "pygments_lexer": "ipython3",
   "version": "3.6.5"
  }
 },
 "nbformat": 4,
 "nbformat_minor": 2
}

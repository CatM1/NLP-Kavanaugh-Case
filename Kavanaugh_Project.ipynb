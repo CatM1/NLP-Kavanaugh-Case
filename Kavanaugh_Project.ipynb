{
 "cells": [
  {
   "cell_type": "code",
   "execution_count": 1,
   "metadata": {},
   "outputs": [
    {
     "name": "stdout",
     "output_type": "stream",
     "text": [
      "['C:\\\\Users\\\\garga\\\\Anaconda3\\\\envs\\\\py27', 'C:\\\\Users\\\\garga\\\\Anaconda3\\\\envs\\\\py27\\\\lib\\\\site-packages']\n"
     ]
    }
   ],
   "source": [
    "#GetOldTweets package from Jefferson-Henrique\n",
    "#importing the got module\n",
    "\n",
    "#find the location of site-packages\n",
    "import site\n",
    "print site.getsitepackages()\n",
    "\n",
    "#copy-paste \"got\" folder from the github link to this location of site-packages\n",
    "#https://github.com/Jefferson-Henrique/GetOldTweets-python.git\n",
    "import got"
   ]
  },
  {
   "cell_type": "code",
   "execution_count": 223,
   "metadata": {},
   "outputs": [],
   "source": [
    "words_A = ['WhyIDidntReport', 'Christine', 'Blasey']  #Anisha\n",
    "words_B = ['BrettKavanaugh','KavanaughHearings','Kavanaugh'] #Kirti\n",
    "words_C = ['KavanaughVote','ConfirmKavanaughNow','ConfimKavanaugh'] #Catherine\n",
    "words_D = ['StopKavanaugh','BelieveSurvivors','kavaNO'] #Cuiting\n",
    "words_E = ['IStandWithChristineBlaseyFord','CancelKavanaugh','JusticeKavanaugh'] #Lining\n",
    "\n",
    "words = ['WhyIDidntReport','BrettKavanaugh','KavanaughHearings', 'Christine', 'Blasey', 'KavanaughVote','Kavanaugh',\\\n",
    "         'ConfirmKavanaughNow','ConfimKavanaugh','StopKavanaugh','BelieveSurvivors','kavaNO',\\\n",
    "          'IStandWithChristineBlaseyFord','CancelKavanaugh','JusticeKavanaugh']\n",
    "         \n",
    "words1 = ['BrettKavanaugh','KavanaughHearings','Kavanaugh','KavanaughVote','ConfirmKavanaughNow','ConfimKavanaugh','JusticeKavanaugh']\n",
    "\n",
    "dates = ['2018-09-16','2018-09-17','2018-09-18','2018-09-19','2018-09-20','2018-09-21','2018-09-22','2018-09-23','2018-09-24',\\\n",
    "         '2018-09-25','2018-09-26','2018-09-27','2018-09-28','2018-09-29','2018-09-30','2018-10-01','2018-10-02','2018-10-03']\n",
    "\n",
    "dates1 = ['2018-07-09','2018-07-10','2018-07-11','2018-07-12','2018-07-13','2018-07-14','2018-07-15','2018-07-16','2018-07-17']\n",
    "\n",
    "tweet = []\n",
    "\n",
    "#####################################################################\n",
    "'''change words_A to appropriate list for your name'''\n",
    "#####################################################################\n",
    "for word in words_D:\n",
    "    print word\n",
    "    for (i,d) in enumerate(dates[:-1]):\n",
    "        print i\n",
    "        tweetCriteria = got.manager.TweetCriteria().setQuerySearch(word).setSince(d).setUntil(dates[i+1]).setMaxTweets(max(0,1000))\n",
    "        tweet.append(got.manager.TweetManager.getTweets(tweetCriteria))\n",
    "        \n",
    "tweet = [j for sub in tweet for j in sub]"
   ]
  },
  {
   "cell_type": "code",
   "execution_count": 11,
   "metadata": {},
   "outputs": [],
   "source": [
    "import pandas as pd\n",
    "#extract information on tweets, hashtags, dates etc from the filtered tweets search\n",
    "tweets = pd.Series([t.text for t in tweet])\n",
    "hashtags =pd.Series([t.hashtags for t in tweet])\n",
    "user_id = pd.Series([t.id for t in tweet])\n",
    "user_name = pd.Series([t.username for t in tweet])\n",
    "tweet_date = pd.Series([t.date for t in tweet])\n",
    "location = pd.Series([t.geo for t in tweet])\n",
    "\n",
    "#combine all attributed of a tweet into a dataframe\n",
    "tweets_data = pd.DataFrame(pd.concat([tweets,hashtags,user_id,user_name,tweet_date,location],axis = 1))\n",
    "tweets_data.columns = ['tweets','hashtag','user_id','user_name','date','location']"
   ]
  },
  {
   "cell_type": "code",
   "execution_count": 224,
   "metadata": {},
   "outputs": [],
   "source": [
    "# tweets_data.to_csv(r'C:\\Users\\garga\\Desktop\\Text Analytics\\Project\\Data\\tweets_words_D.csv', encoding = 'utf-8')"
   ]
  },
  {
   "cell_type": "code",
   "execution_count": 178,
   "metadata": {},
   "outputs": [],
   "source": [
    "tweets_A = pd.read_csv(r'C:\\Users\\garga\\Desktop\\Text Analytics\\Project\\Data\\tweets_words_A.csv')\n",
    "tweets_B = pd.read_csv(r'C:\\Users\\garga\\Desktop\\Text Analytics\\Project\\Data\\tweets_words_B.csv')\n",
    "tweets_C = pd.read_csv(r'C:\\Users\\garga\\Desktop\\Text Analytics\\Project\\Data\\tweets_words_C.csv')\n",
    "tweets_D = pd.read_csv(r'C:\\Users\\garga\\Desktop\\Text Analytics\\Project\\Data\\tweets_words_D.csv')\n",
    "tweets_E = pd.read_csv(r'C:\\Users\\garga\\Desktop\\Text Analytics\\Project\\Data\\tweets_words_E.csv')\n",
    "\n",
    "tweets_all = tweets_A.append(tweets_B).append(tweets_C).append(tweets_D).append(tweets_E) #append all tweets together\n",
    "tweets_all = tweets_all.iloc[:,1:-1].drop_duplicates() #same tweets retreived while searching for different hashtags\n",
    "tweets_all = tweets_all[~tweets_all['tweets'].isnull()] #166 null tweets\n",
    "len(tweets_all)"
   ]
  },
  {
   "cell_type": "code",
   "execution_count": 137,
   "metadata": {},
   "outputs": [],
   "source": [
    "#check for the time distribution of tweets retrieved\n",
    "import datetime\n",
    "tweets_all['date'] = tweets_all['date'].apply(lambda x: pd.to_datetime(x))\n",
    "hours = tweets_all['date'].apply(lambda x: x.hour)\n",
    "date_tw = tweets_all['date'].apply(lambda x: x.day)"
   ]
  },
  {
   "cell_type": "code",
   "execution_count": 139,
   "metadata": {},
   "outputs": [
    {
     "name": "stdout",
     "output_type": "stream",
     "text": [
      "Populating the interactive namespace from numpy and matplotlib\n"
     ]
    },
    {
     "data": {
      "text/plain": [
       "<matplotlib.axes._subplots.AxesSubplot at 0x475c0438>"
      ]
     },
     "execution_count": 139,
     "metadata": {},
     "output_type": "execute_result"
    },
    {
     "data": {
      "image/png": "[encoded data removed]",
      "text/plain": [
       "<Figure size 1152x288 with 2 Axes>"
      ]
     },
     "metadata": {},
     "output_type": "display_data"
    }
   ],
   "source": [
    "import seaborn as sns\n",
    "%pylab inline\n",
    "fig, (ax1, ax2) = subplots(nrows=1,ncols=2,figsize=(16, 4))\n",
    "sns.distplot(hours, ax = ax1)\n",
    "sns.distplot(date_tw, ax = ax2)"
   ]
  },
  {
   "cell_type": "code",
   "execution_count": 186,
   "metadata": {},
   "outputs": [],
   "source": [
    "#making a list of all hashtags\n",
    "tweets_all['hashtag'] = np.where(tweets_all['hashtag'].isnull(), 'missing', tweets_all['hashtag'])\n",
    "tweets_all['hashtag'] = tweets_all['hashtag'].apply(lambda x: x.split('#')[1:])   \n",
    "\n",
    "import re\n",
    "#remove retweets\n",
    "tweets_all['tweets'] = tweets_all['tweets'].apply(lambda x: ''.join(re.sub('https?://.*','',x)))\n",
    "#remove pictures\n",
    "tweets_all['tweets'] = tweets_all['tweets'].apply(lambda x: ''.join(re.sub('pic.twitter.*','',x)))"
   ]
  }
 ],
 "metadata": {
  "kernelspec": {
   "display_name": "Python 2",
   "language": "python",
   "name": "python2"
  },
  "language_info": {
   "codemirror_mode": {
    "name": "ipython",
    "version": 2
   },
   "file_extension": ".py",
   "mimetype": "text/x-python",
   "name": "python",
   "nbconvert_exporter": "python",
   "pygments_lexer": "ipython2",
   "version": "2.7.15"
  }
 },
 "nbformat": 4,
 "nbformat_minor": 2
}

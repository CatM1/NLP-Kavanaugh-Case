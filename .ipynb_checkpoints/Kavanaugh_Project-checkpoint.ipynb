{
 "cells": [
  {
   "cell_type": "code",
   "execution_count": 1,
   "metadata": {},
   "outputs": [
    {
     "name": "stdout",
     "output_type": "stream",
     "text": [
      "['C:\\\\Users\\\\garga\\\\Anaconda3\\\\envs\\\\py27', 'C:\\\\Users\\\\garga\\\\Anaconda3\\\\envs\\\\py27\\\\lib\\\\site-packages']\n"
     ]
    }
   ],
   "source": [
    "#GetOldTweets package from Jefferson-Henrique\n",
    "#importing the got module\n",
    "\n",
    "#find the location of site-packages\n",
    "import site\n",
    "print site.getsitepackages()\n",
    "\n",
    "#copy-paste \"got\" folder from the github link to this location of site-packages\n",
    "#https://github.com/Jefferson-Henrique/GetOldTweets-python.git\n",
    "import got"
   ]
  },
  {
   "cell_type": "code",
   "execution_count": 3,
   "metadata": {},
   "outputs": [
    {
     "name": "stdout",
     "output_type": "stream",
     "text": [
      "BrettKavanaugh\n",
      "0\n",
      "1\n",
      "2\n",
      "3\n",
      "4\n",
      "5\n",
      "6\n",
      "7\n",
      "KavanaughHearings\n",
      "0\n",
      "1\n",
      "2\n",
      "3\n",
      "4\n",
      "5\n",
      "6\n",
      "7\n",
      "Kavanaugh\n",
      "0\n",
      "1\n",
      "2\n",
      "3\n",
      "4\n",
      "5\n",
      "6\n",
      "7\n",
      "KavanaughVote\n",
      "0\n",
      "1\n",
      "2\n",
      "3\n",
      "4\n",
      "5\n",
      "6\n",
      "7\n",
      "ConfirmKavanaughNow\n",
      "0\n",
      "1\n",
      "2\n",
      "3\n",
      "4\n",
      "5\n",
      "6\n",
      "7\n",
      "ConfimKavanaugh\n",
      "0\n",
      "1\n",
      "2\n",
      "3\n",
      "4\n",
      "5\n",
      "6\n",
      "7\n",
      "JusticeKavanaugh\n",
      "0\n",
      "1\n",
      "2\n",
      "3\n",
      "4\n",
      "5\n",
      "6\n",
      "7\n"
     ]
    }
   ],
   "source": [
    "words_A = ['WhyIDidntReport', 'Christine', 'Blasey']  #Anisha\n",
    "words_B = ['BrettKavanaugh','KavanaughHearings','Kavanaugh'] #Kirti\n",
    "words_C = ['KavanaughVote','ConfirmKavanaughNow','ConfimKavanaugh'] #Catherine\n",
    "words_D = ['StopKavanaugh','BelieveSurvivors','kavaNO'] #Cuiting\n",
    "words_E = ['IStandWithChristineBlaseyFord','CancelKavanaugh','JusticeKavanaugh'] #Lining\n",
    "\n",
    "words = ['WhyIDidntReport','BrettKavanaugh','KavanaughHearings', 'Christine', 'Blasey', 'KavanaughVote','Kavanaugh',\\\n",
    "         'ConfirmKavanaughNow','ConfimKavanaugh','StopKavanaugh','BelieveSurvivors','kavaNO',\\\n",
    "          'IStandWithChristineBlaseyFord','CancelKavanaugh','JusticeKavanaugh']\n",
    "         \n",
    "words1 = ['BrettKavanaugh','KavanaughHearings','Kavanaugh','KavanaughVote','ConfirmKavanaughNow','ConfimKavanaugh','JusticeKavanaugh']\n",
    "\n",
    "dates = ['2018-09-16','2018-09-17','2018-09-18','2018-09-19','2018-09-20','2018-09-21','2018-09-22','2018-09-23','2018-09-24',\\\n",
    "         '2018-09-25','2018-09-26','2018-09-27','2018-09-28','2018-09-29','2018-09-30','2018-10-01','2018-10-02','2018-10-03']\n",
    "\n",
    "dates1 = ['2018-07-09','2018-07-10','2018-07-11','2018-07-12','2018-07-13','2018-07-14','2018-07-15','2018-07-16','2018-07-17']\n",
    "\n",
    "tweet = []\n",
    "\n",
    "#####################################################################\n",
    "'''change words_A to appropriate list for your name'''\n",
    "#####################################################################\n",
    "for word in words1:\n",
    "    print word\n",
    "    for (i,d) in enumerate(dates1[:-1]):\n",
    "        print i\n",
    "        tweetCriteria = got.manager.TweetCriteria().setQuerySearch(word).setSince(d).setUntil(dates1[i+1]).setMaxTweets(max(0,1000))\n",
    "        tweet.append(got.manager.TweetManager.getTweets(tweetCriteria))\n",
    "        \n",
    "tweet = [j for sub in tweet for j in sub]"
   ]
  },
  {
   "cell_type": "code",
   "execution_count": 4,
   "metadata": {},
   "outputs": [],
   "source": [
    "import pandas as pd\n",
    "#extract information on tweets, hashtags, dates etc from the filtered tweets search\n",
    "tweets = pd.Series([t.text for t in tweet])\n",
    "hashtags =pd.Series([t.hashtags for t in tweet])\n",
    "user_id = pd.Series([t.id for t in tweet])\n",
    "user_name = pd.Series([t.username for t in tweet])\n",
    "tweet_date = pd.Series([t.date for t in tweet])\n",
    "location = pd.Series([t.geo for t in tweet])\n",
    "\n",
    "#combine all attributed of a tweet into a dataframe\n",
    "tweets_data = pd.DataFrame(pd.concat([tweets,hashtags,user_id,user_name,tweet_date,location],axis = 1))\n",
    "tweets_data.columns = ['tweets','hashtag','user_id','user_name','date','location']"
   ]
  },
  {
   "cell_type": "code",
   "execution_count": 6,
   "metadata": {},
   "outputs": [],
   "source": [
    "tweets_data.to_csv(r'C:\\Users\\garga\\Desktop\\Text Analytics\\Project\\Data\\tweets_july.csv', encoding = 'utf-8')"
   ]
  },
  {
   "cell_type": "code",
   "execution_count": 35,
   "metadata": {},
   "outputs": [
    {
     "data": {
      "text/plain": [
       "188186"
      ]
     },
     "execution_count": 35,
     "metadata": {},
     "output_type": "execute_result"
    }
   ],
   "source": [
    "import pandas as pd\n",
    "tweets_A = pd.read_csv(r'C:\\Users\\garga\\Desktop\\Text Analytics\\Project\\Data\\tweets_words_A.csv', encoding = 'utf8')\n",
    "tweets_B = pd.read_csv(r'C:\\Users\\garga\\Desktop\\Text Analytics\\Project\\Data\\tweets_words_B.csv', encoding = 'utf8')\n",
    "tweets_C = pd.read_csv(r'C:\\Users\\garga\\Desktop\\Text Analytics\\Project\\Data\\tweets_words_C.csv', encoding = 'utf8')\n",
    "tweets_D = pd.read_csv(r'C:\\Users\\garga\\Desktop\\Text Analytics\\Project\\Data\\tweets_words_D.csv', encoding = 'utf8')\n",
    "tweets_E = pd.read_csv(r'C:\\Users\\garga\\Desktop\\Text Analytics\\Project\\Data\\tweets_words_E.csv', encoding = 'utf8')\n",
    "tweets_July = pd.read_csv(r'C:\\Users\\garga\\Desktop\\Text Analytics\\Project\\Data\\tweets_july.csv', encoding = 'utf8')\n",
    "\n",
    "\n",
    "tweets_all = tweets_A.append(tweets_B).append(tweets_C).append(tweets_D).append(tweets_E) #append all tweets together\n",
    "tweets_all = tweets_all.iloc[:,1:-1].drop_duplicates() #same tweets retreived while searching for different hashtags\n",
    "tweets_all = tweets_all[~tweets_all['tweets'].isnull()] #166 null tweets\n",
    "len(tweets_all)"
   ]
  },
  {
   "cell_type": "code",
   "execution_count": 9,
   "metadata": {},
   "outputs": [
    {
     "name": "stdout",
     "output_type": "stream",
     "text": [
      "Populating the interactive namespace from numpy and matplotlib\n"
     ]
    },
    {
     "data": {
      "text/plain": [
       "10    3221\n",
       "14    3157\n",
       "9     3104\n",
       "15    3094\n",
       "11    3067\n",
       "16    3037\n",
       "12    3019\n",
       "13    3008\n",
       "8       37\n",
       "Name: date, dtype: int64"
      ]
     },
     "execution_count": 9,
     "metadata": {},
     "output_type": "execute_result"
    },
    {
     "data": {
      "image/png": "[encoded data removed]",
      "text/plain": [
       "<Figure size 1152x288 with 2 Axes>"
      ]
     },
     "metadata": {},
     "output_type": "display_data"
    }
   ],
   "source": [
    "#check for the time distribution of tweets retrieved\n",
    "import datetime\n",
    "tweets_data['date'] = tweets_data['date'].apply(lambda x: pd.to_datetime(x))\n",
    "hours = tweets_data['date'].apply(lambda x: x.hour)\n",
    "date_tw = tweets_data['date'].apply(lambda x: x.day)\n",
    "\n",
    "import seaborn as sns\n",
    "%pylab inline\n",
    "fig, (ax1, ax2) = subplots(nrows=1,ncols=2,figsize=(16, 4))\n",
    "sns.distplot(hours, ax = ax1)\n",
    "sns.distplot(date_tw, ax = ax2)\n",
    "\n",
    "date_tw.value_counts()"
   ]
  },
  {
   "cell_type": "code",
   "execution_count": 112,
   "metadata": {},
   "outputs": [],
   "source": [
    "#check for the time distribution of tweets retrieved\n",
    "import datetime\n",
    "tweets_all['date'] = tweets_all['date'].apply(lambda x: pd.to_datetime(x))\n",
    "tweets_all['hours'] = tweets_all['date'].apply(lambda x: x.hour)\n",
    "tweets_all['date_tw'] = tweets_all['date'].apply(lambda x: x.date())\n",
    "tweets_all['day'] = tweets_all['date'].apply(lambda x: x.day)"
   ]
  },
  {
   "cell_type": "code",
   "execution_count": 113,
   "metadata": {},
   "outputs": [
    {
     "name": "stdout",
     "output_type": "stream",
     "text": [
      "Populating the interactive namespace from numpy and matplotlib\n"
     ]
    },
    {
     "data": {
      "text/plain": [
       "<matplotlib.axes._subplots.AxesSubplot at 0x2d4e3a58>"
      ]
     },
     "execution_count": 113,
     "metadata": {},
     "output_type": "execute_result"
    },
    {
     "data": {
      "image/png": "[encoded data removed]",
      "text/plain": [
       "<Figure size 1152x288 with 2 Axes>"
      ]
     },
     "metadata": {},
     "output_type": "display_data"
    }
   ],
   "source": [
    "import seaborn as sns\n",
    "%pylab inline\n",
    "fig, (ax1, ax2) = subplots(nrows=1,ncols=2,figsize=(16, 4))\n",
    "sns.distplot(tweets_all['hours'], ax = ax1)\n",
    "sns.distplot(tweets_all['day'], ax = ax2)"
   ]
  },
  {
   "cell_type": "code",
   "execution_count": 36,
   "metadata": {},
   "outputs": [],
   "source": [
    "#making a list of all hashtags\n",
    "tweets_all['hashtag'] = np.where(tweets_all['hashtag'].isnull(), 'missing', tweets_all['hashtag'])\n",
    "tweets_all['hashtag'] = tweets_all['hashtag'].apply(lambda x: x.split('#')[1:])   \n",
    "\n",
    "import re\n",
    "#remove retweets\n",
    "tweets_all['tweets'] = tweets_all['tweets'].apply(lambda x: ''.join(re.sub('https?://.*','',x)))\n",
    "#remove pictures\n",
    "tweets_all['tweets'] = tweets_all['tweets'].apply(lambda x: ''.join(re.sub('pic.twitter.*','',x)))"
   ]
  },
  {
   "cell_type": "markdown",
   "metadata": {},
   "source": [
    "# Topic Modeling - LDA"
   ]
  },
  {
   "cell_type": "code",
   "execution_count": 22,
   "metadata": {},
   "outputs": [],
   "source": [
    "# !pip install spacy\n",
    "import spacy\n",
    "\n",
    "### run in command prompt - python -m spacy download en\n",
    "import en_core_web_sm\n",
    "nlp = en_core_web_sm.load()\n",
    "\n",
    "from spacy.lang.en import English\n",
    "parser = English()\n",
    "def tokenize(text):\n",
    "    lda_tokens = []\n",
    "    tokens = parser(text)\n",
    "    for token in tokens:\n",
    "        if token.orth_.isspace():\n",
    "            continue\n",
    "        elif token.like_url:\n",
    "            lda_tokens.append('URL')\n",
    "        elif token.orth_.startswith('@'):\n",
    "            lda_tokens.append('SCREEN_NAME')\n",
    "        else:\n",
    "            lda_tokens.append(token.lower_)\n",
    "    return lda_tokens"
   ]
  },
  {
   "cell_type": "code",
   "execution_count": 23,
   "metadata": {},
   "outputs": [
    {
     "name": "stdout",
     "output_type": "stream",
     "text": [
      "[nltk_data] Downloading package wordnet to\n",
      "[nltk_data]     C:\\Users\\garga\\AppData\\Roaming\\nltk_data...\n",
      "[nltk_data]   Package wordnet is already up-to-date!\n"
     ]
    }
   ],
   "source": [
    "import nltk\n",
    "nltk.download('wordnet')\n",
    "from nltk.corpus import wordnet as wn\n",
    "def get_lemma(word):\n",
    "    lemma = wn.morphy(word)\n",
    "    if lemma is None:\n",
    "        return word\n",
    "    else:\n",
    "        return lemma\n",
    "    \n",
    "from nltk.stem.wordnet import WordNetLemmatizer\n",
    "def get_lemma2(word):\n",
    "    return WordNetLemmatizer().lemmatize(word)"
   ]
  },
  {
   "cell_type": "code",
   "execution_count": 123,
   "metadata": {},
   "outputs": [
    {
     "name": "stdout",
     "output_type": "stream",
     "text": [
      "[nltk_data] Downloading package stopwords to\n",
      "[nltk_data]     C:\\Users\\garga\\AppData\\Roaming\\nltk_data...\n",
      "[nltk_data]   Package stopwords is already up-to-date!\n"
     ]
    }
   ],
   "source": [
    "nltk.download('stopwords')\n",
    "en_stop = set(nltk.corpus.stopwords.words('english'))\n",
    "pun = ['.',',',';',':','\\\\','?','(',')','-','\"','/','\\'s','#','&','!','URL','SCREEN_NAME','...',\"'\"]\n",
    "unicode_errors = ['n\\u2019t','n\\'t','\\u201d','\\u201c','\\u2019s']\n",
    "\n",
    "def prepare_text_for_lda(text):\n",
    "    tokens = tokenize(text)\n",
    "#     tokens = [token for token in tokens if len(token) > 4]\n",
    "    tokens = [token for token in tokens if token not in en_stop]\n",
    "    tokens = [token for token in tokens if token not in pun]\n",
    "    tokens = [token for token in tokens if token not in unicode_errors]\n",
    "    tokens = [get_lemma(token) for token in tokens]\n",
    "    return tokens"
   ]
  },
  {
   "cell_type": "code",
   "execution_count": 69,
   "metadata": {},
   "outputs": [],
   "source": [
    "tweets_all['tweets_token'] = tweets_all['tweets'].apply(lambda x: prepare_text_for_lda(unicode(x)))"
   ]
  },
  {
   "cell_type": "code",
   "execution_count": 70,
   "metadata": {},
   "outputs": [],
   "source": [
    "from gensim import corpora\n",
    "dictionary = corpora.Dictionary(tweets_all['tweets_token'])\n",
    "corpus = [dictionary.doc2bow(text) for text in tweets_all['tweets_token']]\n",
    "\n",
    "# import pickle\n",
    "# pickle.dump(corpus, open('corpus.pkl', 'wb'))\n",
    "# dictionary.save('dictionary.gensim')"
   ]
  },
  {
   "cell_type": "code",
   "execution_count": 71,
   "metadata": {},
   "outputs": [
    {
     "name": "stdout",
     "output_type": "stream",
     "text": [
      "(0, u'0.046*\"cancelkavanaugh\" + 0.032*\"ford\" + 0.030*\"kavanaugh\" + 0.022*\"believesurvivors\"')\n",
      "(1, u'0.056*\"kavanaugh\" + 0.029*\"vote\" + 0.026*\"\\'\" + 0.025*\"senate\"')\n",
      "(2, u'0.105*\"justicekavanaugh\" + 0.027*\"kavanaugh\" + 0.020*\"scotus\" + 0.018*\"confirmkavanaughnow\"')\n",
      "(3, u'0.015*\"woman\" + 0.014*\"n\\u2019t\" + 0.012*\"\\u2019s\" + 0.012*\"get\"')\n",
      "(4, u'0.099*\"cancelkavanaugh\" + 0.073*\"stopkavanaugh\" + 0.072*\"istandwithchristineblaseyford\" + 0.057*\"kavano\"')\n"
     ]
    }
   ],
   "source": [
    "import gensim\n",
    "NUM_TOPICS = 3\n",
    "ldamodel = gensim.models.ldamodel.LdaModel(corpus, num_topics = NUM_TOPICS, id2word=dictionary, passes=15)\n",
    "# ldamodel.save('model5.gensim')"
   ]
  },
  {
   "cell_type": "code",
   "execution_count": 83,
   "metadata": {},
   "outputs": [
    {
     "name": "stdout",
     "output_type": "stream",
     "text": [
      "(0, u'0.046*\"cancelkavanaugh\" + 0.032*\"ford\" + 0.030*\"kavanaugh\" + 0.022*\"believesurvivors\" + 0.022*\"sexual\"')\n",
      "(1, u'0.056*\"kavanaugh\" + 0.029*\"vote\" + 0.026*\"\\'\" + 0.025*\"senate\" + 0.018*\"brett\"')\n",
      "(2, u'0.105*\"justicekavanaugh\" + 0.027*\"kavanaugh\" + 0.020*\"scotus\" + 0.018*\"confirmkavanaughnow\" + 0.017*\"court\"')\n",
      "(3, u'0.015*\"woman\" + 0.014*\"n\\u2019t\" + 0.012*\"\\u2019s\" + 0.012*\"get\" + 0.011*\"...\"')\n",
      "(4, u'0.099*\"cancelkavanaugh\" + 0.073*\"stopkavanaugh\" + 0.072*\"istandwithchristineblaseyford\" + 0.057*\"kavano\" + 0.028*\"metoo\"')\n"
     ]
    }
   ],
   "source": [
    "topics = ldamodel.print_topics(num_words=5)\n",
    "for topic in topics:\n",
    "    print(topic)"
   ]
  },
  {
   "cell_type": "code",
   "execution_count": 86,
   "metadata": {},
   "outputs": [],
   "source": [
    "import pyLDAvis.gensim\n",
    "lda_display = pyLDAvis.gensim.prepare(ldamodel, corpus, dictionary, sort_topics=False)\n",
    "# pyLDAvis.display(lda_display)\n",
    "pyLDAvis.save_html(lda_display, 'lda.html')\n",
    "\n",
    "# Saliency: a measure of how much the term tells you about the topic.\n",
    "# Relevance: a weighted average of the probability of the word given the topic and the word given the topic normalized by the probability of the topic."
   ]
  },
  {
   "cell_type": "markdown",
   "metadata": {},
   "source": [
    "# LDA for different dates"
   ]
  },
  {
   "cell_type": "code",
   "execution_count": null,
   "metadata": {},
   "outputs": [],
   "source": [
    "import gensim\n",
    "from gensim import corpora\n",
    "import pyLDAvis.gensim\n",
    "\n",
    "NUM_TOPICS = 2\n",
    "\n",
    "for d in dates[:-1]:\n",
    "    d = pd.to_datetime(d).date()\n",
    "    tweets_d = tweets_all[tweets_all['date_tw'] == d]['tweets'].apply(lambda x: prepare_text_for_lda(unicode(x)))\n",
    "    dictionary = corpora.Dictionary(tweets_d)\n",
    "    corpus = [dictionary.doc2bow(text) for text in tweets_d]\n",
    "    ldamodel = gensim.models.ldamodel.LdaModel(corpus, num_topics = NUM_TOPICS, id2word=dictionary, passes=15)\n",
    "    topics = ldamodel.print_topics(num_words=4)\n",
    "    print (d)\n",
    "    for topic in topics:\n",
    "        print(topic)\n",
    "    \n",
    "    lda_display = pyLDAvis.gensim.prepare(ldamodel, corpus, dictionary, sort_topics=False)\n",
    "    pyLDAvis.save_html(lda_display, 'LDAviz//da_2Topics_{}.html'.format(d))\n",
    "\n",
    "\n"
   ]
  },
  {
   "cell_type": "markdown",
   "metadata": {},
   "source": [
    "# Senator Joe Manchin"
   ]
  },
  {
   "cell_type": "code",
   "execution_count": 144,
   "metadata": {},
   "outputs": [],
   "source": [
    "tweet = []\n",
    "tweetCriteria = got.manager.TweetCriteria().setSince('2018-09-16').setUntil('2018-10-03').setUsername('Sen_JoeManchin')\n",
    "tweet = got.manager.TweetManager.getTweets(tweetCriteria)\n",
    "\n",
    "tweets = pd.Series([t.text for t in tweet])\n",
    "hashtags =pd.Series([t.hashtags for t in tweet])\n",
    "user_id = pd.Series([t.id for t in tweet])\n",
    "user_name = pd.Series([t.username for t in tweet])\n",
    "tweet_date = pd.Series([t.date for t in tweet])\n",
    "location = pd.Series([t.geo for t in tweet])\n",
    "\n",
    "#combine all attributed of a tweet into a dataframe\n",
    "tweets_data = pd.DataFrame(pd.concat([tweets,hashtags,user_id,user_name,tweet_date,location],axis = 1))\n",
    "tweets_data.columns = ['tweets','hashtag','user_id','user_name','date','location']"
   ]
  },
  {
   "cell_type": "code",
   "execution_count": 146,
   "metadata": {},
   "outputs": [
    {
     "data": {
      "text/html": [
       "<div>\n",
       "<style scoped>\n",
       "    .dataframe tbody tr th:only-of-type {\n",
       "        vertical-align: middle;\n",
       "    }\n",
       "\n",
       "    .dataframe tbody tr th {\n",
       "        vertical-align: top;\n",
       "    }\n",
       "\n",
       "    .dataframe thead th {\n",
       "        text-align: right;\n",
       "    }\n",
       "</style>\n",
       "<table border=\"1\" class=\"dataframe\">\n",
       "  <thead>\n",
       "    <tr style=\"text-align: right;\">\n",
       "      <th></th>\n",
       "      <th>tweets</th>\n",
       "      <th>hashtag</th>\n",
       "      <th>user_id</th>\n",
       "      <th>user_name</th>\n",
       "      <th>date</th>\n",
       "      <th>location</th>\n",
       "    </tr>\n",
       "  </thead>\n",
       "  <tbody>\n",
       "    <tr>\n",
       "      <th>0</th>\n",
       "      <td>I'm thrilled the Senate Energy &amp; Natural Resou...</td>\n",
       "      <td>#WV #LWCF</td>\n",
       "      <td>1047166201099636736</td>\n",
       "      <td>Sen_JoeManchin</td>\n",
       "      <td>2018-10-02 11:47:32</td>\n",
       "      <td></td>\n",
       "    </tr>\n",
       "    <tr>\n",
       "      <th>1</th>\n",
       "      <td>Happy 95th birthday to my good friend and West...</td>\n",
       "      <td></td>\n",
       "      <td>1047143025326116864</td>\n",
       "      <td>Sen_JoeManchin</td>\n",
       "      <td>2018-10-02 10:15:26</td>\n",
       "      <td></td>\n",
       "    </tr>\n",
       "    <tr>\n",
       "      <th>2</th>\n",
       "      <td>Last week I visited the traveling replica of t...</td>\n",
       "      <td></td>\n",
       "      <td>1047135657775251456</td>\n",
       "      <td>Sen_JoeManchin</td>\n",
       "      <td>2018-10-02 09:46:10</td>\n",
       "      <td></td>\n",
       "    </tr>\n",
       "    <tr>\n",
       "      <th>3</th>\n",
       "      <td>I'm excited to announce more than $5.5 million...</td>\n",
       "      <td></td>\n",
       "      <td>1046781864856473601</td>\n",
       "      <td>Sen_JoeManchin</td>\n",
       "      <td>2018-10-01 10:20:19</td>\n",
       "      <td></td>\n",
       "    </tr>\n",
       "    <tr>\n",
       "      <th>4</th>\n",
       "      <td>I applaud Senator Flake's decision to rise abo...</td>\n",
       "      <td></td>\n",
       "      <td>1045747647968153600</td>\n",
       "      <td>Sen_JoeManchin</td>\n",
       "      <td>2018-09-28 13:50:42</td>\n",
       "      <td></td>\n",
       "    </tr>\n",
       "    <tr>\n",
       "      <th>5</th>\n",
       "      <td>Today I visited with job seekers in Parkersbur...</td>\n",
       "      <td></td>\n",
       "      <td>1045736991747461120</td>\n",
       "      <td>Sen_JoeManchin</td>\n",
       "      <td>2018-09-28 13:08:22</td>\n",
       "      <td></td>\n",
       "    </tr>\n",
       "    <tr>\n",
       "      <th>6</th>\n",
       "      <td>All week the @MineWorkers have been meeting wi...</td>\n",
       "      <td></td>\n",
       "      <td>1045355836879589376</td>\n",
       "      <td>Sen_JoeManchin</td>\n",
       "      <td>2018-09-27 11:53:47</td>\n",
       "      <td></td>\n",
       "    </tr>\n",
       "    <tr>\n",
       "      <th>7</th>\n",
       "      <td>Today @SenDeanHeller &amp; I sent a bipartisan let...</td>\n",
       "      <td>#WV</td>\n",
       "      <td>1045313462962974722</td>\n",
       "      <td>Sen_JoeManchin</td>\n",
       "      <td>2018-09-27 09:05:25</td>\n",
       "      <td></td>\n",
       "    </tr>\n",
       "    <tr>\n",
       "      <th>8</th>\n",
       "      <td>I had the privilege to meet with Trent &amp; Melis...</td>\n",
       "      <td>#WV</td>\n",
       "      <td>1044934621337710593</td>\n",
       "      <td>Sen_JoeManchin</td>\n",
       "      <td>2018-09-26 08:00:02</td>\n",
       "      <td></td>\n",
       "    </tr>\n",
       "    <tr>\n",
       "      <th>9</th>\n",
       "      <td>This afternoon I met with members of the Ameri...</td>\n",
       "      <td></td>\n",
       "      <td>1044706454576484353</td>\n",
       "      <td>Sen_JoeManchin</td>\n",
       "      <td>2018-09-25 16:53:23</td>\n",
       "      <td></td>\n",
       "    </tr>\n",
       "    <tr>\n",
       "      <th>10</th>\n",
       "      <td>Congratulations to #WV native @mikelebuckband ...</td>\n",
       "      <td>#WV #TeamKelly #VoicePremiere</td>\n",
       "      <td>1044401634279862272</td>\n",
       "      <td>Sen_JoeManchin</td>\n",
       "      <td>2018-09-24 20:42:08</td>\n",
       "      <td></td>\n",
       "    </tr>\n",
       "    <tr>\n",
       "      <th>11</th>\n",
       "      <td>Today Mineral County was designated as a High ...</td>\n",
       "      <td></td>\n",
       "      <td>1044286067539619840</td>\n",
       "      <td>Sen_JoeManchin</td>\n",
       "      <td>2018-09-24 13:02:55</td>\n",
       "      <td></td>\n",
       "    </tr>\n",
       "    <tr>\n",
       "      <th>12</th>\n",
       "      <td>I'm excited to announce $35M to support our ef...</td>\n",
       "      <td></td>\n",
       "      <td>1043590762108264448</td>\n",
       "      <td>Sen_JoeManchin</td>\n",
       "      <td>2018-09-22 15:00:01</td>\n",
       "      <td></td>\n",
       "    </tr>\n",
       "    <tr>\n",
       "      <th>13</th>\n",
       "      <td>Are you familiar with Ole Henry's Camping Retr...</td>\n",
       "      <td>#ThisIsWV</td>\n",
       "      <td>1043485061390245889</td>\n",
       "      <td>Sen_JoeManchin</td>\n",
       "      <td>2018-09-22 08:00:00</td>\n",
       "      <td></td>\n",
       "    </tr>\n",
       "    <tr>\n",
       "      <th>14</th>\n",
       "      <td>We discussed the progress we have made, the so...</td>\n",
       "      <td>#WV</td>\n",
       "      <td>1042485396326768640</td>\n",
       "      <td>Sen_JoeManchin</td>\n",
       "      <td>2018-09-19 13:47:41</td>\n",
       "      <td></td>\n",
       "    </tr>\n",
       "    <tr>\n",
       "      <th>15</th>\n",
       "      <td>This morning I hosted an opioids roundtable at...</td>\n",
       "      <td></td>\n",
       "      <td>1042485391004184576</td>\n",
       "      <td>Sen_JoeManchin</td>\n",
       "      <td>2018-09-19 13:47:40</td>\n",
       "      <td></td>\n",
       "    </tr>\n",
       "    <tr>\n",
       "      <th>16</th>\n",
       "      <td>I'm excited to announce a more than $3.7 milli...</td>\n",
       "      <td></td>\n",
       "      <td>1042459373711372292</td>\n",
       "      <td>Sen_JoeManchin</td>\n",
       "      <td>2018-09-19 12:04:17</td>\n",
       "      <td></td>\n",
       "    </tr>\n",
       "    <tr>\n",
       "      <th>17</th>\n",
       "      <td>Gayle &amp; I wish a safe &amp; easy fast to all West ...</td>\n",
       "      <td>#YomKippur</td>\n",
       "      <td>1042165835576627201</td>\n",
       "      <td>Sen_JoeManchin</td>\n",
       "      <td>2018-09-18 16:37:52</td>\n",
       "      <td></td>\n",
       "    </tr>\n",
       "    <tr>\n",
       "      <th>18</th>\n",
       "      <td>BREAKING: Today I sent a letter to Acting Admi...</td>\n",
       "      <td></td>\n",
       "      <td>1042122504318459904</td>\n",
       "      <td>Sen_JoeManchin</td>\n",
       "      <td>2018-09-18 13:45:41</td>\n",
       "      <td></td>\n",
       "    </tr>\n",
       "    <tr>\n",
       "      <th>19</th>\n",
       "      <td>I'm excited to announce $1.5 million for the e...</td>\n",
       "      <td></td>\n",
       "      <td>1042107532913901569</td>\n",
       "      <td>Sen_JoeManchin</td>\n",
       "      <td>2018-09-18 12:46:11</td>\n",
       "      <td></td>\n",
       "    </tr>\n",
       "    <tr>\n",
       "      <th>20</th>\n",
       "      <td>#WV has the highest overdose rate per capita o...</td>\n",
       "      <td>#WV #WV</td>\n",
       "      <td>1041822770726883329</td>\n",
       "      <td>Sen_JoeManchin</td>\n",
       "      <td>2018-09-17 17:54:39</td>\n",
       "      <td></td>\n",
       "    </tr>\n",
       "    <tr>\n",
       "      <th>21</th>\n",
       "      <td>Professor Christine Blasey Ford deserves to be...</td>\n",
       "      <td></td>\n",
       "      <td>1041722390613504001</td>\n",
       "      <td>Sen_JoeManchin</td>\n",
       "      <td>2018-09-17 11:15:46</td>\n",
       "      <td></td>\n",
       "    </tr>\n",
       "  </tbody>\n",
       "</table>\n",
       "</div>"
      ],
      "text/plain": [
       "                                               tweets  \\\n",
       "0   I'm thrilled the Senate Energy & Natural Resou...   \n",
       "1   Happy 95th birthday to my good friend and West...   \n",
       "2   Last week I visited the traveling replica of t...   \n",
       "3   I'm excited to announce more than $5.5 million...   \n",
       "4   I applaud Senator Flake's decision to rise abo...   \n",
       "5   Today I visited with job seekers in Parkersbur...   \n",
       "6   All week the @MineWorkers have been meeting wi...   \n",
       "7   Today @SenDeanHeller & I sent a bipartisan let...   \n",
       "8   I had the privilege to meet with Trent & Melis...   \n",
       "9   This afternoon I met with members of the Ameri...   \n",
       "10  Congratulations to #WV native @mikelebuckband ...   \n",
       "11  Today Mineral County was designated as a High ...   \n",
       "12  I'm excited to announce $35M to support our ef...   \n",
       "13  Are you familiar with Ole Henry's Camping Retr...   \n",
       "14  We discussed the progress we have made, the so...   \n",
       "15  This morning I hosted an opioids roundtable at...   \n",
       "16  I'm excited to announce a more than $3.7 milli...   \n",
       "17  Gayle & I wish a safe & easy fast to all West ...   \n",
       "18  BREAKING: Today I sent a letter to Acting Admi...   \n",
       "19  I'm excited to announce $1.5 million for the e...   \n",
       "20  #WV has the highest overdose rate per capita o...   \n",
       "21  Professor Christine Blasey Ford deserves to be...   \n",
       "\n",
       "                          hashtag              user_id       user_name  \\\n",
       "0                       #WV #LWCF  1047166201099636736  Sen_JoeManchin   \n",
       "1                                  1047143025326116864  Sen_JoeManchin   \n",
       "2                                  1047135657775251456  Sen_JoeManchin   \n",
       "3                                  1046781864856473601  Sen_JoeManchin   \n",
       "4                                  1045747647968153600  Sen_JoeManchin   \n",
       "5                                  1045736991747461120  Sen_JoeManchin   \n",
       "6                                  1045355836879589376  Sen_JoeManchin   \n",
       "7                             #WV  1045313462962974722  Sen_JoeManchin   \n",
       "8                             #WV  1044934621337710593  Sen_JoeManchin   \n",
       "9                                  1044706454576484353  Sen_JoeManchin   \n",
       "10  #WV #TeamKelly #VoicePremiere  1044401634279862272  Sen_JoeManchin   \n",
       "11                                 1044286067539619840  Sen_JoeManchin   \n",
       "12                                 1043590762108264448  Sen_JoeManchin   \n",
       "13                      #ThisIsWV  1043485061390245889  Sen_JoeManchin   \n",
       "14                            #WV  1042485396326768640  Sen_JoeManchin   \n",
       "15                                 1042485391004184576  Sen_JoeManchin   \n",
       "16                                 1042459373711372292  Sen_JoeManchin   \n",
       "17                     #YomKippur  1042165835576627201  Sen_JoeManchin   \n",
       "18                                 1042122504318459904  Sen_JoeManchin   \n",
       "19                                 1042107532913901569  Sen_JoeManchin   \n",
       "20                        #WV #WV  1041822770726883329  Sen_JoeManchin   \n",
       "21                                 1041722390613504001  Sen_JoeManchin   \n",
       "\n",
       "                  date location  \n",
       "0  2018-10-02 11:47:32           \n",
       "1  2018-10-02 10:15:26           \n",
       "2  2018-10-02 09:46:10           \n",
       "3  2018-10-01 10:20:19           \n",
       "4  2018-09-28 13:50:42           \n",
       "5  2018-09-28 13:08:22           \n",
       "6  2018-09-27 11:53:47           \n",
       "7  2018-09-27 09:05:25           \n",
       "8  2018-09-26 08:00:02           \n",
       "9  2018-09-25 16:53:23           \n",
       "10 2018-09-24 20:42:08           \n",
       "11 2018-09-24 13:02:55           \n",
       "12 2018-09-22 15:00:01           \n",
       "13 2018-09-22 08:00:00           \n",
       "14 2018-09-19 13:47:41           \n",
       "15 2018-09-19 13:47:40           \n",
       "16 2018-09-19 12:04:17           \n",
       "17 2018-09-18 16:37:52           \n",
       "18 2018-09-18 13:45:41           \n",
       "19 2018-09-18 12:46:11           \n",
       "20 2018-09-17 17:54:39           \n",
       "21 2018-09-17 11:15:46           "
      ]
     },
     "execution_count": 146,
     "metadata": {},
     "output_type": "execute_result"
    }
   ],
   "source": [
    "tweets_data"
   ]
  }
 ],
 "metadata": {
  "kernelspec": {
   "display_name": "Python 2",
   "language": "python",
   "name": "python2"
  },
  "language_info": {
   "codemirror_mode": {
    "name": "ipython",
    "version": 2
   },
   "file_extension": ".py",
   "mimetype": "text/x-python",
   "name": "python",
   "nbconvert_exporter": "python",
   "pygments_lexer": "ipython2",
   "version": "2.7.15"
  }
 },
 "nbformat": 4,
 "nbformat_minor": 2
}
